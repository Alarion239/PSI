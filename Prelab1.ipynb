{
  "cells": [
    {
      "cell_type": "markdown",
      "metadata": {
        "id": "NnnUmXfHZvwi"
      },
      "source": [
        "# Office Hours + Additional Resources\n",
        "\n",
        "**If you have any questions, feel free to reach out via email, or stop by our lab office hours.**\n",
        "\n",
        "This week's pre-lab will focus on statistics that regularly come up in lab"
      ]
    },
    {
      "cell_type": "markdown",
      "metadata": {
        "id": "xn-NBx0-PJTT"
      },
      "source": [
        "## Learning Goals ##\n",
        "- Understand how instrumentation impacts measurement accuracy and precision\n",
        "- Correctly identify measurement error based on instrumentation\n",
        "- Understand that measurements may or may not be distinguishable, and think about what determines this\n",
        "- Think about how individual measurement errors might combine and interact"
      ]
    },
    {
      "cell_type": "markdown",
      "metadata": {
        "id": "AtCJRgmMa8Qp"
      },
      "source": [
        "# Invention Activity 1\n",
        "\n",
        "You have been hired by an aircraft company to test a new ''Cruise Control'' software and measuring devices. You, being a skilled simulator pilot, are given a button labeled *Cruising Speed* that you will press once you reach adequate altitude and speed in the plane simulator. The aircraft company wants to know at what airspeed the plane cruises as measured by the new instruments. You have two instruments that give you your airspeed, shown below.\n",
        "\n",
        "\n",
        "<div>\n",
        "<img src=\"AirSpeed.png\" width=\"400\"/>\n",
        "\n",
        "<img src=\"IndicatedAir.png\" width=\"400\"/>\n",
        "<div/>"
      ]
    },
    {
      "cell_type": "markdown",
      "metadata": {
        "id": "MuuI2eC3PE00"
      },
      "source": [
        "<font color='red'>What measurements would you report back to the aircraft company for each of the measuring devices?</font>"
      ]
    },
    {
      "cell_type": "markdown",
      "metadata": {
        "id": "N3y7ssqVPE01"
      },
      "source": [
        "I will report back to the company the number that I see on one of the devices (the digital one) and also where the arrow is on the second device. However, it is harder to determine where the arrow is, since we can only see that it is between two marks (maybe, closer to one of them). The distance between two marks is $5$ knots, so we will indicate that we know the result with the precision up to $2.5$ knots.\n",
        "\n",
        "For example, for the presented pictures I would report: \n",
        "* Analog device: $187 \\pm 2.5$ knots (here, we do not know what is the speed that device is actually showing us)\n",
        "* Digital device: $193$ knots (we report not the actual speed, but what is shown by the device)"
      ]
    },
    {
      "cell_type": "markdown",
      "metadata": {
        "id": "Mk3Hl_srPE02"
      },
      "source": [
        "<font color='red'>Do you inherently trust one of your measurements more than the other?</font>"
      ]
    },
    {
      "cell_type": "markdown",
      "metadata": {
        "id": "kwvXsvcnPE03"
      },
      "source": [
        "I trust my own measurement (looking with my eyes) of the digital device more, since it convey the data it reads to me with more precision. \n",
        "However, I have no reason to trust the method how it collects this data over the method of the other device.\n",
        "So there is a two-step collection process: one with the device, and the second is with me. \n",
        "Since the error of measurement the data from the devices in both cases is small compared to the indicated airspeed, I would say that I do not trust any of them more than another."
      ]
    },
    {
      "cell_type": "markdown",
      "metadata": {
        "id": "HaoigeHHPE04"
      },
      "source": [
        "# Invention Activity 2\n",
        "\n",
        "You and some friends partake in the regular Fall tradition of going apple picking! This year though, you start to see difference in size between red and golden apples. Being diligent scientists, you set out collecting data on the diameters of all the apples you have picked. Each friend presents to you histograms of multiple sets of measurements of their apples' diameters and have done some of the calculations for you, of the average diameter $\\mu$ and the uncertainty related to it $\\sigma_\\mu$.\n",
        "\n",
        "<div>\n",
        "<img src=\"Graphs.png\" width=\"1000\"/>\n",
        "<div/>"
      ]
    },
    {
      "cell_type": "markdown",
      "metadata": {
        "id": "ndotXYY4PE06"
      },
      "source": [
        "For each of the pairs,<font color=\"red\"> write down how confident you are that the two sets of measurements are distinguishable (different). </font>\n",
        "    \n",
        "Use a scale of 0 to 2 where 0 means that you are not at all confident that they are distinguishable (i.e. the two sets of measurements are identical) and 2 means that you are very confident that they are distinguishable (i.e. that the two sets of measurements are very different).\n",
        "\n",
        "I am very sure, that both left graphs are distinguishable. I would give them $2$, because the difference between their means is much bigger than the sum of their standard deviations:\n",
        "* Top-left: $\\mu_2 - \\mu_1 = 60 >> \\sigma_1 + \\sigma_2 = 10$\n",
        "* Bottom-left: $\\mu_2 - \\mu_1 = 60 >> \\sigma_1 + \\sigma_2 = 15$\n",
        "\n",
        "However, the bottom right distributions are almost indistinguishable. I would rate them $0.3/2$, since $\\mu_2 - \\mu_1 = 10$, which is much smaller than the sum of their standard deviations $\\sigma_1 + \\sigma_2 = 20$.\n",
        "\n",
        "The top right distributions are more distinguishable than the bottom right ones, but less so than the left ones. I would rate the confidence as $1$.\n",
        "Let us check our metrics: $\\mu_2-\\mu_1 = 10 = \\sigma_1 + \\sigma_2$ -- not good, though not that bad."
      ]
    },
    {
      "cell_type": "markdown",
      "metadata": {
        "id": "ggWgKkG0PE06"
      },
      "source": [
        "<font color='red'>Now come up with metrics to determine who receives the most apples and whose fluctuates most.</font>\n",
        "\n",
        "What?"
      ]
    },
    {
      "cell_type": "markdown",
      "metadata": {
        "id": "JJ3ohQmTPE07"
      },
      "source": [
        "# Invention Activity 3\n",
        "\n",
        "Tired of living in the city, you decide to go out and buy a plot of land to start a farm. Your realtor takes you to four different, equally-sized plots of land. Due to different contours of the land (hills, cliffs, etc.), there is some uncertainty in each of the measured distances. At the end of the day you have to buy a plot of land.\n",
        "\n",
        "<div>\n",
        "<img src=\"Plots.png\" width=\"500\"/>\n",
        "<div/>"
      ]
    },
    {
      "cell_type": "markdown",
      "metadata": {
        "id": "jPDd5ZqyPE07"
      },
      "source": [
        "<font color='red'>Which of these four plots are you most confident in buying?</font>\n",
        "\n",
        "Plot A, since the fluctuations are the smallest"
      ]
    },
    {
      "cell_type": "markdown",
      "metadata": {
        "id": "STB8LTxNPE08"
      },
      "source": [
        "<font color='red'>Now come up with a metric that resembles your confidence in the area of the plots</font>\n",
        "\n",
        "Let us try to quantify the uncertainty for each Plot.\n",
        "If a Plot has dimensions $l, w$ and uncertainties $\\delta l, \\delta w$. \n",
        "Then the uncertainty of the area of this plot is $$\\delta (wl) = w\\delta l + l\\delta w.$$\n",
        "It is the smallest for Plot A!"
      ]
    },
    {
      "cell_type": "markdown",
      "metadata": {
        "id": "XB21yfCycEEK"
      },
      "source": [
        "## Last Question ##\n",
        "<font color='red'>How long did you spend working on this pre-lab?</font>\n",
        "\n",
        "(Enter your answer here)"
      ]
    },
    {
      "cell_type": "markdown",
      "metadata": {
        "id": "ZOwKBdVfGEOq"
      },
      "source": [
        "# Turn In\n",
        "\n",
        "You will turn in this problem on [Gradescope](http://gradescope.com) again.  \n",
        "\n",
        "You'll upload your Python notebook to Gradescope directly.\n",
        "\n",
        "- Go to `File` $\\rightarrow$ `Download` $\\rightarrow$ `Download .ipynb`\n",
        "- Find the **Pre-lab 1** assignment on Gradescope and upload the .ipynb\n",
        "- You can check your submission by clicking the ```Code``` button"
      ]
    },
    {
      "cell_type": "code",
      "execution_count": null,
      "metadata": {
        "id": "6T5lx749dYev"
      },
      "outputs": [],
      "source": []
    }
  ],
  "metadata": {
    "colab": {
      "provenance": []
    },
    "kernelspec": {
      "display_name": "Julia 1.11.6",
      "language": "julia",
      "name": "julia-1.11"
    },
    "language_info": {
      "file_extension": ".jl",
      "mimetype": "application/julia",
      "name": "julia",
      "version": "1.11.6"
    }
  },
  "nbformat": 4,
  "nbformat_minor": 0
}
