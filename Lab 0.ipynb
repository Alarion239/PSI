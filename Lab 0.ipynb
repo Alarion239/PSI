{
 "cells": [
  {
   "cell_type": "markdown",
   "id": "9c2a45e1",
   "metadata": {
    "id": "Umik01pt3vPK"
   },
   "source": [
    "# Welcome to ~~Python~~ Julia!\n",
    "\n",
    "**I promise I know how to do all of this in Python. I just want to show how this would work in Julia!**\n",
    "\n",
    "This tutorial is to teach you some of the basics of Python. The best way to learn Python is by diving in and doing it! Try to get as far as you can with this. You are not graded on completion but effort put in during class.\n",
    "\n",
    "Asking for help (from a TF, or from Python's online documentation) is a completely normal part of the learning process, so don't hesitate to ask a friend or TF for help, or to Google functions you haven't used before!"
   ]
  },
  {
   "cell_type": "markdown",
   "id": "bcca91e7",
   "metadata": {
    "id": "8ZFSjj9l_j4T"
   },
   "source": [
    "The environment we are using is called a \"notebook\" and contains a set of \"cells\" that are either text (like this one) or code (which you will learn about below). You can edit text cells by double-clicking on them. Edit this text cell (see how the bold font was made?). Enter your name, then press Shift+Enter to run the cell:\n",
    "\n",
    "**Aleksandr Belotserkovtsev**\n",
    "\n",
    "<sup> If you are familiar with $\\LaTeX$, you can use it in your text cells to make equations pretty, though this is optional (you will also have the ability to include handwritten math if this comes up in lab). </sup>"
   ]
  },
  {
   "cell_type": "markdown",
   "id": "627b6113",
   "metadata": {
    "id": "5h6AvmiM4ZcI"
   },
   "source": [
    "# Learning Objectives\n",
    "\n",
    "After this tutorial, you should be able to...\n",
    "\n",
    "*   Import libraries and use functions from those libraries\n",
    "*   Define a variable\n",
    "*   Use print statements (shows a value on the screen)\n",
    "*   Add a comment to your code\n",
    "*   Calculate a quantity and store it in a variable (ie, understand how the equals sign works in Python)\n",
    "*   Write a little code to compute something \n",
    "\n",
    "\n",
    "\n",
    "\n"
   ]
  },
  {
   "cell_type": "markdown",
   "id": "6d82ffc1",
   "metadata": {
    "id": "4bCoHpDypx6s"
   },
   "source": [
    "# Python as a calculator\n",
    "\n",
    "If you hover your mouse just a bit below this text, you'll see an option pop up to either add Code or Text—select \"+ Code.\"\n",
    "\n",
    "Python functions as a calculator.  Add a code cell below and add 3 and 2 by typing ```3+2``` and pressing \"shift+enter.\"  Typing ```+``` works just like pressing the \"+\" button on a calculator.    (If you see a pop up, just select 'Run Anyway' and then give it a moment to think.)"
   ]
  },
  {
   "cell_type": "markdown",
   "id": "da912113",
   "metadata": {
    "id": "OGa4i0qcqC9I"
   },
   "source": [
    "See how it spit out the answer (which I hope was 5). You can also assign values to **variables**, like this:\n",
    "\n",
    "```\n",
    "a = 3\n",
    "b = 2\n",
    "\n",
    "c = a+b\n",
    "```\n",
    "(Warning! The above is just text, not code you can run.  You'll have to type this into a code cell (create a new one below) to run it.) \n",
    "\n",
    "\n",
    "\n",
    "\n",
    "\n",
    "\n"
   ]
  },
  {
   "cell_type": "code",
   "execution_count": 51,
   "id": "fcfb43bb",
   "metadata": {
    "id": "JXEF3tOhDljU"
   },
   "outputs": [
    {
     "data": {
      "text/plain": [
       "5"
      ]
     },
     "execution_count": 51,
     "metadata": {},
     "output_type": "execute_result"
    }
   ],
   "source": [
    "a = 3\n",
    "b = 2\n",
    "c = a + b #So far they are pretty similar"
   ]
  },
  {
   "cell_type": "markdown",
   "id": "6434e38f",
   "metadata": {
    "id": "YOldlDs0Uh5j"
   },
   "source": [
    "Here ```a``` and ```b``` are like little labeled containers or jars that hold your numbers.\n",
    "\n",
    "You can change what's in the jar by reassigning it:\n",
    "\n",
    "```\n",
    "a=7.\n",
    "```"
   ]
  },
  {
   "cell_type": "code",
   "execution_count": 53,
   "id": "a997746a-2a53-40e5-bd09-afd373c0d6c5",
   "metadata": {},
   "outputs": [
    {
     "data": {
      "text/plain": [
       "7"
      ]
     },
     "execution_count": 53,
     "metadata": {},
     "output_type": "execute_result"
    }
   ],
   "source": [
    "a = 7 #Wow, it worked!"
   ]
  },
  {
   "cell_type": "markdown",
   "id": "45a86116",
   "metadata": {
    "id": "NpWnwyUbikaM"
   },
   "source": [
    "Now, we have to talk a little bit about the ```=``` in Python; it doesn't work like it does in math. Python goes line by line through your code, and uses each line as instructions.  Python looks to the **right** hand side of an equals sign, and computes whatever is there.  If it's just a ```3```, it doesn't really have to do anything.  If it's ```3+2```, it will add them to get ```5```.  Python takes that value and stores it in the variable name to the **left** of the equals sign.  In Python, you're almost always going to have just a variable name on the left by itself - you **cannot** square it, or type in something like this:\n",
    "\n",
    "```a - 8 = 3 + 4.```\n",
    "\n",
    "See what happens if you try to run the above line of code.  What you see is Python \"throwing an error.\"  *Most people who write code spend a lot more time fixing errors than writing new code, so please don't get discouraged if this happens to you!!!* (The process of fixing your code is called \"debugging,\" and it usually involves a lot of Googling and cursing, and eventually looking at a website called Stack Exchange. All of this is normal...)\n",
    "\n",
    "\n"
   ]
  },
  {
   "cell_type": "code",
   "execution_count": 54,
   "id": "7cf5abf4-2623-4df7-b7ce-e258566b9642",
   "metadata": {},
   "outputs": [
    {
     "ename": "LoadError",
     "evalue": "syntax: \"8\" is not a valid function argument name around In[54]:1",
     "output_type": "error",
     "traceback": [
      "syntax: \"8\" is not a valid function argument name around In[54]:1",
      "",
      "Stacktrace:",
      " [1] top-level scope",
      "\u001b[90m   @\u001b[39m \u001b[90m\u001b[4mIn[54]:1\u001b[24m\u001b[39m"
     ]
    }
   ],
   "source": [
    "a - 8 = 3 + 4 #Same with Julia!"
   ]
  },
  {
   "cell_type": "code",
   "execution_count": 20,
   "id": "5348bb9c",
   "metadata": {
    "id": "GidrN_TeSw42"
   },
   "outputs": [
    {
     "data": {
      "text/plain": [
       "false"
      ]
     },
     "execution_count": 20,
     "metadata": {},
     "output_type": "execute_result"
    }
   ],
   "source": [
    "a - 8 == 3 + 4"
   ]
  },
  {
   "cell_type": "markdown",
   "id": "88656fac",
   "metadata": {
    "id": "Hkq5I1ZSXqVA"
   },
   "source": [
    "See how the text turns green after the ```#``` above?  Those are *comments;* when the computer goes through your code line by line, it ignores stuff after the ```#```, so that you can write useful notes for yourself."
   ]
  },
  {
   "cell_type": "markdown",
   "id": "4f79d928",
   "metadata": {
    "id": "UhbOQjqi508i"
   },
   "source": [
    "Anyway, Python won't know what to do with the above line, because it expects the stuff on the left hand side to be a name, so you'll have to move the 8 over to the other side yourself:\n",
    "\n",
    "```a = 3+4+8```\n",
    "\n",
    "So what counts as a variable name?  Any of these will work as variable names:\n",
    "\n",
    "```\n",
    "a = 4-7\n",
    "rand_var = 3+4\n",
    "a4 = 1+9\n",
    "```\n",
    "\n",
    "Try running these three lines of code below.  "
   ]
  },
  {
   "cell_type": "code",
   "execution_count": 22,
   "id": "65c691d8",
   "metadata": {
    "id": "M-_Tqh4IBLeI"
   },
   "outputs": [
    {
     "data": {
      "text/plain": [
       "10"
      ]
     },
     "execution_count": 22,
     "metadata": {},
     "output_type": "execute_result"
    }
   ],
   "source": [
    "a = 4-7\n",
    "rand = 3 + 4\n",
    "a4 = 1 + 9"
   ]
  },
  {
   "cell_type": "markdown",
   "id": "37c98349",
   "metadata": {
    "id": "bpHjruLgjk-n"
   },
   "source": [
    "By default Python \"prints out\" (displays) the final line of code if you aren't storing it in a variable.  If you want to print the value of ```a``` and ```rand_var```, you'll need to do this:\n",
    "\n",
    "```\n",
    "a = 4-7\n",
    "print(a)\n",
    "rand_var = 3+4\n",
    "print(rand_var)\n",
    "a4 = 1+9\n",
    "\n",
    "```\n",
    "\n",
    "Or:\n",
    "\n",
    "```\n",
    "a = 4-7\n",
    "rand_var = 3+4\n",
    "a4 = 1+9\n",
    "print(a,rand_var,a4)\n",
    "```\n",
    "Try it in a new code cell below."
   ]
  },
  {
   "cell_type": "code",
   "execution_count": 23,
   "id": "1274bee3",
   "metadata": {
    "id": "CS2pckVqCQED"
   },
   "outputs": [
    {
     "name": "stdout",
     "output_type": "stream",
     "text": [
      "-37"
     ]
    },
    {
     "data": {
      "text/plain": [
       "10"
      ]
     },
     "execution_count": 23,
     "metadata": {},
     "output_type": "execute_result"
    }
   ],
   "source": [
    "a = 4-7\n",
    "print(a)\n",
    "rand_var = 3+4\n",
    "print(rand_var)\n",
    "a4 = 1+9"
   ]
  },
  {
   "cell_type": "code",
   "execution_count": 27,
   "id": "7fbab909-f156-46c3-94c4-3ac3602f27b2",
   "metadata": {},
   "outputs": [
    {
     "name": "stdout",
     "output_type": "stream",
     "text": [
      "-3 7 10"
     ]
    }
   ],
   "source": [
    "a = 4-7\n",
    "rand_var = 3+4\n",
    "a4 = 1+9\n",
    "print(a,' ',rand_var,' ',a4) #Here we did a workaround, since julian print doesn't have seps"
   ]
  },
  {
   "cell_type": "markdown",
   "id": "0cac019d",
   "metadata": {
    "id": "ZWzO7sbOYSzs"
   },
   "source": [
    "The humble print statement is one of the most useful tools you have, because it lets you check your work.  \n",
    "\n"
   ]
  },
  {
   "cell_type": "markdown",
   "id": "934c6932",
   "metadata": {
    "id": "pHKTNwb8H12u"
   },
   "source": [
    "# WHEN IN DOUBT, PRINT IT OUT!\n",
    "\n",
    "(Or, call over the TF for some good old fashioned debugging)"
   ]
  },
  {
   "cell_type": "markdown",
   "id": "4ef24b2d",
   "metadata": {
    "id": "x3k8JQ7ekvlA"
   },
   "source": [
    "# Practice!\n",
    "\n",
    "\n",
    "1.  What will the following code print out?\n",
    "```\n",
    "a = 0\n",
    "a = 4\n",
    "```\n",
    "\n"
   ]
  },
  {
   "cell_type": "code",
   "execution_count": 5,
   "id": "c813c755",
   "metadata": {
    "id": "HD4PGxr5Cuzv"
   },
   "outputs": [
    {
     "name": "stdout",
     "output_type": "stream",
     "text": [
      "4"
     ]
    }
   ],
   "source": [
    "a = 0\n",
    "a = 4\n",
    "print(a)"
   ]
  },
  {
   "cell_type": "markdown",
   "id": "630acef9",
   "metadata": {
    "id": "sQH-tyPZC2B_"
   },
   "source": [
    "2.  What will the following code print out?\n",
    "```\n",
    "a = 3\n",
    "b = 4\n",
    "c = 3*4\n",
    "```"
   ]
  },
  {
   "cell_type": "code",
   "execution_count": 6,
   "id": "82a58f60",
   "metadata": {
    "id": "e1BBQ-t-DLn-"
   },
   "outputs": [
    {
     "name": "stdout",
     "output_type": "stream",
     "text": [
      "12"
     ]
    }
   ],
   "source": [
    "a = 0\n",
    "b = 4\n",
    "c = 3 * 4\n",
    "print(c)"
   ]
  },
  {
   "cell_type": "markdown",
   "id": "91fd6258",
   "metadata": {
    "id": "siystYKTC52_"
   },
   "source": [
    "3. What will the following code print out?\n",
    "```\n",
    "a = 6\n",
    "a = a + 4\n",
    "print(a)  \n",
    "```"
   ]
  },
  {
   "cell_type": "code",
   "execution_count": 7,
   "id": "e200a43b",
   "metadata": {
    "id": "Mk2r4ARkDKgK"
   },
   "outputs": [
    {
     "name": "stdout",
     "output_type": "stream",
     "text": [
      "10"
     ]
    }
   ],
   "source": [
    "a = 6\n",
    "a += 4\n",
    "print(a)"
   ]
  },
  {
   "cell_type": "markdown",
   "id": "2375d3b5",
   "metadata": {
    "id": "4zQMMT2EC9oe"
   },
   "source": [
    "4.  What will the following code print out?\n",
    "```\n",
    "a = 3\n",
    "print(a)\n",
    "a = a-7\n",
    "print(a)\n",
    "```"
   ]
  },
  {
   "cell_type": "code",
   "execution_count": 55,
   "id": "4e0b8fd1",
   "metadata": {
    "id": "8hDQembKNq6f"
   },
   "outputs": [
    {
     "name": "stdout",
     "output_type": "stream",
     "text": [
      "3\n",
      "7"
     ]
    }
   ],
   "source": [
    "a = 3\n",
    "println(a) #New line!\n",
    "a -= a-7\n",
    "print(a)"
   ]
  },
  {
   "cell_type": "markdown",
   "id": "168123ed",
   "metadata": {
    "id": "_eAhsXneWrXB"
   },
   "source": [
    "# A tip about printing!\n",
    "\n",
    "We showed you this above, but it's important to note that the ```print()``` function can accept multiple arguments sepearated by commas,like this:\n",
    "\n",
    "```\n",
    "a = 4-7\n",
    "a4 = 1+9\n",
    "print (\"the value of a is\", a, \"and the value of a4 is\", a4) \n",
    "```\n",
    "\n",
    "This is nice because now we can include units with our answers: Try adding a cell and running the following code:\n",
    "\n",
    "```\n",
    "g = 9.81  # meters per second squared [m/s^2]\n",
    "y_o = 5   # meters [m]\n",
    "print(g, 'm/s^2')\n",
    "```"
   ]
  },
  {
   "cell_type": "code",
   "execution_count": 56,
   "id": "02dd3073-fc36-4dcf-a9fb-9f6bf77b7820",
   "metadata": {},
   "outputs": [
    {
     "name": "stdout",
     "output_type": "stream",
     "text": [
      "9.81 m s⁻²"
     ]
    }
   ],
   "source": [
    "using Unitful #A great library to be able to work with unitfull values!\n",
    "g = 9.81u\"m/s^2\"\n",
    "print(g)"
   ]
  },
  {
   "cell_type": "markdown",
   "id": "e5cd1e87",
   "metadata": {
    "id": "_wMER9kbu6B1"
   },
   "source": [
    "# Special math functions"
   ]
  },
  {
   "cell_type": "markdown",
   "id": "e18db9c2",
   "metadata": {
    "id": "Zx03YpNfqVjC"
   },
   "source": [
    "What if we want to compute the sine of $\\pi/2$?  Turns out we need a special sine function that lives in a **library** of numerical python functions called ```numpy```.  (Your calculator does the exact same thing; you get the function by pressing the sin button on your calculator.) We import the library so that we can access all those functions, as shown below. Click on the cell and hit shift enter to run the cell."
   ]
  },
  {
   "cell_type": "markdown",
   "id": "2da459d0",
   "metadata": {
    "id": "p6THm-wCqvr-"
   },
   "source": [
    "This imports the library numpy and gives it a nickname, ```np```.  To use a function from that library (in code language people say \"call a function\"), like the sine function, you type:\n",
    "\n",
    "```\n",
    "np.sin(3.14/2).\n",
    "```\n",
    "\n",
    "Try it.  Is the answer correct?"
   ]
  },
  {
   "cell_type": "markdown",
   "id": "10ff1ff8",
   "metadata": {
    "id": "abzgxHbFrFSx"
   },
   "source": [
    "Hmmm, that number is almost one, but 3.14 is only almost $\\pi$.  Numpy also stores the value of $\\pi$:"
   ]
  },
  {
   "cell_type": "code",
   "execution_count": 58,
   "id": "81578930",
   "metadata": {
    "id": "h1lpIEsorLjl"
   },
   "outputs": [
    {
     "data": {
      "text/plain": [
       "1.0"
      ]
     },
     "execution_count": 58,
     "metadata": {},
     "output_type": "execute_result"
    }
   ],
   "source": [
    "sin(π/2) #π is a constant in Julia"
   ]
  },
  {
   "cell_type": "markdown",
   "id": "0494390c",
   "metadata": {
    "id": "3orOtCDYGn_j"
   },
   "source": [
    "Notice, python ***doesn't*** use '^' to square a number or variable, instead it uses **. If you use it by accident the error will look like: (can you fix it?)"
   ]
  },
  {
   "cell_type": "code",
   "execution_count": 59,
   "id": "7b0343be",
   "metadata": {
    "id": "baJo4e3oGxWN"
   },
   "outputs": [
    {
     "data": {
      "text/plain": [
       "16.81"
      ]
     },
     "execution_count": 59,
     "metadata": {},
     "output_type": "execute_result"
    }
   ],
   "source": [
    "A = 4.1\n",
    "A^2 #And ^ is actually power in Julia"
   ]
  },
  {
   "cell_type": "markdown",
   "id": "839c0d00",
   "metadata": {
    "id": "brxkRsL9XHXH"
   },
   "source": [
    "Here are some common mathematical functions you'll need.  If you need another one that's not here, try a quick internet search.\n",
    "\n",
    "Operation | Regular math syntax | Python syntax\n",
    "--- | --- | ---\n",
    "Add:|$a+b$  |   ```a+b```\n",
    "Subtract | $a-b$ | ```a-b```\n",
    "Multiply | $ab, a \\times b$ | ```a*b```\n",
    "Divide | $\\frac{a}{b}$ | ```a/b```\n",
    "Exponentiate| $a^b$ | ```a**b```\n",
    "Square root| $\\sqrt{a}$ | ```np.sqrt(a)```\n",
    "Sine| $\\sin(a)$ | ```np.sin(a)```\n",
    "Cosine| $\\cos(a)$ | ```np.cos(a)```\n",
    "Natural Log | $\\ln(a)$ | ```np.log(a)```\n",
    "Log base 10 | $\\log(a)$ | ```np.log10(a)```\n",
    "\n",
    "Note: sine and cosine are input in radians instead of degrees. Numpy has the function np.deg2rad(a) to convert a from degrees to radians.\n"
   ]
  },
  {
   "cell_type": "markdown",
   "id": "541ae644",
   "metadata": {
    "id": "8GNdOFupW_l7"
   },
   "source": [
    "# Whitespace\n",
    "\n",
    "Unlike most programming languages, Python is particular about certain types of whitespace, meaning spaces and tabs that come before a line of code.  The following code is going to \"throw an error.\"  Try it!  Can you fix it?  "
   ]
  },
  {
   "cell_type": "code",
   "execution_count": 60,
   "id": "d745f8c4",
   "metadata": {
    "id": "FzxROSFoMmQp"
   },
   "outputs": [
    {
     "name": "stdout",
     "output_type": "stream",
     "text": [
      "-1"
     ]
    }
   ],
   "source": [
    "a = 2\n",
    " b = -3 #Whitespaces are not important for Julia!\n",
    "\n",
    "c = a + b\n",
    "\n",
    "print(c)"
   ]
  },
  {
   "cell_type": "markdown",
   "id": "858d6492",
   "metadata": {
    "id": "1ZwJYfdDXHnb"
   },
   "source": [
    "\n",
    "---"
   ]
  },
  {
   "cell_type": "markdown",
   "id": "23e8c34f",
   "metadata": {
    "id": "MOQS2D9qXO1I"
   },
   "source": [
    "# Working in terms of variables\n",
    "\n",
    "Suppose you need to find the solutions to \n",
    "$$0 = 6x^2 - 3x - 4,$$ \n",
    "and then you also need to solve 8 more problems of the same type. \n",
    "\n",
    "To solve this, you know you need to use the [quadratic formula](https://en.wikipedia.org/wiki/Quadratic_formula), which says that if your function is \n",
    "\n",
    "$$0 = ax^2 + bx + c,$$\n",
    "\n",
    "the solutions are \n",
    "$$x = \\frac{-b\\pm \\sqrt{b^2-4ac}}{2a}.$$\n",
    "\n",
    "\n",
    "You could type something like this into your calculator:\n",
    "```\n",
    "(-(-3)+sqrt((-3)^2-(4*6*(-4))))/(2*6)\n",
    "```\n",
    "And then you gotta do this:\n",
    "```\n",
    "(-(-3)-sqrt((-3)^2-(4*6*(-4))))/(2*6)\n",
    "```\n",
    " And then you have to type in new numbers to do the next problem.\n",
    "\n",
    "\n",
    "Or, you could use a little bit of Python.  Generally, you'll go through the following steps, which have a lot in common with physics problem solving:\n",
    "\n",
    "1. What values do I **know**?\n",
    "      * Assign those values to variables in Python\n",
    "      * Make sure you use appropriate Python syntax\n",
    "      * Check your work by printing out the variables\n",
    "2. What values do I **want**?\n",
    "      * How are the values I want related to the values I have?\n",
    "      * This is usually a mathematical equation that you can (any probably should) write down on paper\n",
    "3. What **mathematical calculation** do I need to perform? \n",
    "      * Solve (on paper) for the value you want.\n",
    "      * Implement that calculation in Python (How do I say it in Python language?)\n",
    "\n"
   ]
  },
  {
   "cell_type": "code",
   "execution_count": 61,
   "id": "30514d78",
   "metadata": {
    "id": "LckHRjw8AKzm"
   },
   "outputs": [
    {
     "name": "stdout",
     "output_type": "stream",
     "text": [
      "1.1039125638299665\n",
      "-0.6039125638299665\n"
     ]
    }
   ],
   "source": [
    "a = 6   # Coefficient of x^2 \n",
    "b = -3  # Coefficient of x^1\n",
    "c = -4  # Coefficient of x^0\n",
    "\n",
    "\n",
    "# Calculate both roots:\n",
    "x1 = (-b+sqrt(b^2-4a*c))/(2a) #Look how much easier this looks!\n",
    "x2 = (-b-sqrt(b^2-4a*c))/(2a)\n",
    "\n",
    "\n",
    "# Print out the answers:\n",
    "println(x1)\n",
    "println(x2)\n"
   ]
  },
  {
   "cell_type": "markdown",
   "id": "85ba0f91",
   "metadata": {
    "id": "UFHhfHCgXdHU"
   },
   "source": [
    "Now all I have to do to find the solutions to all 8 problems is change the values of ```a```, ```b``` and ```c``` at the top of the code, and run the little cell again.  Pretty nice eh?!\n"
   ]
  },
  {
   "cell_type": "markdown",
   "id": "1b28350d",
   "metadata": {
    "id": "ILa9LMvv7rlA"
   },
   "source": [
    "# Activity: Try it yourself!\n",
    "\n",
    "A block slides down a frictionless ramp with incline angle $\\theta$ relative to the horizontal. It undergoes constant acceleration along the ramp, so the distance it travels can be written as:\n",
    "\n",
    "$$d=v_0t+\\frac{1}{2}at^2$$\n",
    "\n",
    "The acceleration of the block along the ramp can be derived from its free-body diagram and turns out to be:\n",
    "\n",
    "$$a=g \\sin{\\theta}$$\n",
    "\n",
    "Using the guidelines above, write a little bit of code to compute the amount of time it takes the block to move 0.25, 0.5, and 1 meter if $\\theta=30^{\\circ}$ and the block starts from rest. Hint: there is a function that converts degrees to radians for you, ```np.deg2rad()```  Verify that it works the way you think it does before you use it."
   ]
  },
  {
   "cell_type": "markdown",
   "id": "2345412d",
   "metadata": {},
   "source": [
    "$$\\frac{1}{2}g\\sin\\theta t^2 + v_0t - d = 0$$\n",
    "$$\\frac{1}{2}g\\sin\\theta t^2  = d $$\n"
   ]
  },
  {
   "cell_type": "code",
   "execution_count": 65,
   "id": "e78a9bc6",
   "metadata": {},
   "outputs": [
    {
     "name": "stdout",
     "output_type": "stream",
     "text": [
      "0.3192754284070505 s\n",
      "0.4515236409857309 s\n",
      "0.638550856814101 s\n"
     ]
    },
    {
     "data": {
      "text/plain": [
       "1.0"
      ]
     },
     "execution_count": 65,
     "metadata": {},
     "output_type": "execute_result"
    }
   ],
   "source": [
    "t(d, θ) = sqrt(2d / (g * sin(θ)))\n",
    "\n",
    "println(t(0.25u\"m\", 30u\"°\")) #Just use meters and degrees!\n",
    "println(t(0.5u\"m\", 30u\"°\"))\n",
    "println(t(1u\"m\", 30u\"°\"))\n",
    "\n",
    "#We can even define\n",
    "° = 1u\"°\"\n",
    "#to do\n",
    "sin(90°)"
   ]
  },
  {
   "cell_type": "markdown",
   "id": "27887853",
   "metadata": {
    "id": "Mcuz3kr_uC8q"
   },
   "source": [
    "Enter your calculated values here (double-click on this cell to edit):\n",
    "\n",
    "Distance (m) | Time (s)\n",
    "--- | ---\n",
    "0.25 | 0.319\n",
    "0.5 | 0.451\n",
    "1.0 | 0.638"
   ]
  },
  {
   "cell_type": "markdown",
   "id": "c9f8c268",
   "metadata": {
    "id": "NFutDXta9ttm"
   },
   "source": [
    "# Turn In (or if there's more time, continue below)\n",
    "\n",
    "Since it is cumbersome to print out your code on paper, all labs will be turned in on Gradescope. You can access the Gradescope page for this coure by clicking the \"Gradescope\" link on the sidebar of the Canvas page.\n",
    "\n",
    "You'll upload your Python notebook to Gradescope directly.\n",
    "\n",
    "- Go to `File` $\\rightarrow$ `Download` $\\rightarrow$ `Download .ipynb` \n",
    "- Find the **Week 0** assignment on Gradescope and upload the .ipynb\n",
    "- You can check your submission by clicking the ```Code``` button\n",
    "- Include all team members to the submission"
   ]
  },
  {
   "cell_type": "markdown",
   "id": "6906c06b",
   "metadata": {
    "id": "1ZwJYfdDXHnb"
   },
   "source": [
    "\n",
    "---"
   ]
  },
  {
   "cell_type": "markdown",
   "id": "11c25709",
   "metadata": {},
   "source": [
    "# Getting  fancy - Defining arrays\n",
    "\n",
    "So far we've been using variables to store single values. Now we will store a collection of values without having to write each one separately using arrays. If you've ever used a spreadsheet, like Excel, then you may already have an idea of what an array is and why you may want to use one.\n",
    "\n",
    "We're going to be using arrays from the numpy package. So let's initialize the library by running the folwoing cell"
   ]
  },
  {
   "cell_type": "markdown",
   "id": "9bcc2651",
   "metadata": {},
   "source": [
    "To define an array, you want to call the ```np.array()``` function. For instance, let's say we want to have an array that consists of 3 numbers (3, 4, and -8, in that order). How would you do this?"
   ]
  },
  {
   "cell_type": "code",
   "execution_count": 66,
   "id": "dbbb3553",
   "metadata": {},
   "outputs": [
    {
     "name": "stdout",
     "output_type": "stream",
     "text": [
      "[3, 4, -8]"
     ]
    }
   ],
   "source": [
    "#Code here! Make sure you print your array to make sure you did it correctly\n",
    "array = [3, 4, -8] #Arrays in julia are very good straight out of the Base module: we do not need numpy!\n",
    "print(array)"
   ]
  },
  {
   "cell_type": "markdown",
   "id": "f55b2c5c",
   "metadata": {},
   "source": [
    "Numpy arrays are not restricted to 1D. You can make a multidimensional array as long as they're rectangular."
   ]
  },
  {
   "cell_type": "code",
   "execution_count": 18,
   "id": "a34534fa",
   "metadata": {},
   "outputs": [
    {
     "name": "stdout",
     "output_type": "stream",
     "text": [
      "[[3, 5, 2], [4, 8, 1]]"
     ]
    }
   ],
   "source": [
    "array_2D = [[3,5,2],[4,8,1]]\n",
    "print(array_2D)"
   ]
  },
  {
   "cell_type": "markdown",
   "id": "cb978d19",
   "metadata": {},
   "source": [
    "We can now use these arrays to perform calculations! Try the following below and confirm they are doing what you expect by printing.\n",
    "\n",
    "```\n",
    "xx = np.array([4,-2,3])\n",
    "zz = np.array([[3,5,2],[4,8,1]])\n",
    "\n",
    "yy = xx/2\n",
    "yy = zz+3\n",
    "yy = xx**2\n",
    "```"
   ]
  },
  {
   "cell_type": "code",
   "execution_count": 67,
   "id": "05880aeb",
   "metadata": {},
   "outputs": [
    {
     "name": "stdout",
     "output_type": "stream",
     "text": [
      "[2.0, -1.0, 1.5]\n",
      "[[6, 8, 5], [7, 11, 4]]\n",
      "[16, 4, 9]\n"
     ]
    }
   ],
   "source": [
    "xx = [4, -2, 3]\n",
    "zz = [[3, 5, 2], [4, 8, 1]]\n",
    "\n",
    "yy = xx/2\n",
    "println(yy)\n",
    "\n",
    "yy = [z.+3 for z in zz] #We sadly can't broadcast twice, but it makes sense\n",
    "println(yy)\n",
    "\n",
    "yy = xx.^2 #This is broadcast\n",
    "println(yy)\n"
   ]
  },
  {
   "cell_type": "markdown",
   "id": "171987ea",
   "metadata": {},
   "source": [
    "We can also perform functions on the arrays. Try each of these and see what they do by printing.\n",
    "```\n",
    "xx = np.array([4,-2,3])\n",
    "zz = np.array([[3,5,2],[4,8,1]])\n",
    "\n",
    "yy = np.sum(xx)\n",
    "yy = np.cumsum(xx)\n",
    "yy = np.shape(zz)\n",
    "print(xx[0], xx[1], xx[2], xx[0:1], xx[0:2])\n",
    "print(zz[0], zz[0,0], zz[1,0], zz[:,0], zz[0,:])\n",
    "```"
   ]
  },
  {
   "cell_type": "code",
   "execution_count": 68,
   "id": "6716d456",
   "metadata": {},
   "outputs": [
    {
     "name": "stdout",
     "output_type": "stream",
     "text": [
      "5\n",
      "[4, 2, 5]\n",
      "(2,)\n",
      "4, -2, 3, [4, -2], [4, -2, 3]\n",
      "[3, 5, 2], [3, 5, 2], [4, 8, 1], [[3, 5, 2], [4, 8, 1]], [[3, 5, 2]]\n"
     ]
    }
   ],
   "source": [
    "yy = sum(xx)\n",
    "println(yy)\n",
    "\n",
    "yy = cumsum(xx)\n",
    "println(yy)\n",
    "\n",
    "yy = size(zz)\n",
    "println(yy)\n",
    "println(\"$(xx[1]), $(xx[2]), $(xx[3]), $(xx[1:2]), $(xx[1:3])\") #Here we have strings interpolation!\n",
    "println(\"$(zz[1]), $(zz[1,1]), $(zz[2,1]), $(zz[:,1]), $(zz[1,:])\")\n"
   ]
  },
  {
   "cell_type": "markdown",
   "id": "f39e4534",
   "metadata": {},
   "source": [
    "There are a few functions that create arrays\n",
    "\n",
    "```\n",
    "np.linspace(start, stop, number of points)\n",
    "np.arange(start, stop, interval)\n",
    "np.zeros([rows,columns])\n",
    "```\n",
    "\n",
    "Use ```np.linspace``` to create the array ```[0,1,2,3,4,5]```\n",
    "\n",
    "Use ```np.arange``` to create the array ```[0,2,4,6,8,10]```\n",
    "\n",
    "Use ```np.zeros``` to create the array ```[0,0,0,0,0]```"
   ]
  },
  {
   "cell_type": "code",
   "execution_count": 69,
   "id": "d33c918d",
   "metadata": {},
   "outputs": [
    {
     "name": "stdout",
     "output_type": "stream",
     "text": [
      "[0, 1, 2, 3, 4, 5]\n",
      "[0, 2, 4, 6, 8, 10]\n",
      "[0.0, 0.0, 0.0, 0.0, 0.0]\n"
     ]
    }
   ],
   "source": [
    "# to get help on the linspace() function, which makes arrays of evenly spaced numbers, run this cell:\n",
    "println(collect(0:5)) #Collect creates a vector from a range!\n",
    "println(collect(0:2:10))\n",
    "println(zeros(5))"
   ]
  },
  {
   "cell_type": "code",
   "execution_count": 22,
   "id": "5b307dda",
   "metadata": {},
   "outputs": [],
   "source": [
    "#Try it here!"
   ]
  },
  {
   "cell_type": "markdown",
   "id": "c419c91b",
   "metadata": {
    "id": "1ZwJYfdDXHnb"
   },
   "source": [
    "\n",
    "---"
   ]
  },
  {
   "cell_type": "markdown",
   "id": "5d83f959",
   "metadata": {},
   "source": [
    "# Plotting\n",
    "\n",
    "Say now we want to plot some mathematical function or some of the arrays we've created. How do we go about this?\n",
    "We will use the ```matplotlib``` package to do this. Run the following cell to initilize the packages"
   ]
  },
  {
   "cell_type": "code",
   "execution_count": 4,
   "id": "9c5d9a66",
   "metadata": {},
   "outputs": [],
   "source": [
    "using GLMakie"
   ]
  },
  {
   "cell_type": "markdown",
   "id": "e1840c41",
   "metadata": {},
   "source": [
    "Let's try to plot the function $y = \\sin(x)$ from $-\\pi$ to $\\pi$ using this package."
   ]
  },
  {
   "cell_type": "code",
   "execution_count": 92,
   "id": "b495d1e9",
   "metadata": {},
   "outputs": [
    {
     "data": {
      "image/png": "[encoded data removed]",
      "text/html": [
       "<img width=600 height=450 style='object-fit: contain; height: auto;' src=\"data:image/png;base64, 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\"/>"
      ]
     },
     "execution_count": 92,
     "metadata": {},
     "output_type": "execute_result"
    }
   ],
   "source": [
    "xx = -π:0.01:π #Look how useful ranges are!\n",
    "yy = sin.(xx) #Look how useful the broadcast is!\n",
    "\n",
    "fig = GLMakie.Figure()\n",
    "ax = GLMakie.Axis(fig[1,1], xlabel=\"x\", ylabel=\"y\", title=\"Plasmatic sin function\")\n",
    "plot!(ax, xx, yy, color = yy .* xx, colormap=:plasma) \n",
    "fig"
   ]
  },
  {
   "cell_type": "markdown",
   "id": "942a9a66",
   "metadata": {},
   "source": [
    "We can customize what this plot looks like to make it look nice. You can also chhange the colors, the linewidths, the marker styles, the marker colors, etc.\n",
    "\n",
    "By using the following functions make sure to:\n",
    "- Label the axes\n",
    "- Include units on the axes\n",
    "- Give the figure a title\n",
    "- Reduce/expand the range/domain so that the data is well ocntained and doesn't have too much empty space\n",
    "\n",
    "```\n",
    "plt.plot()\n",
    "ax.set_xlabel() # or plt.xlabel()\n",
    "ax.set_ylabel() # or plt.ylabel()\n",
    "plt.suptitle()\n",
    "ax.set_xlim() # or plt.xlim()\n",
    "ax.set_ylim() # or plt.ylim()\n",
    "```"
   ]
  },
  {
   "cell_type": "code",
   "execution_count": null,
   "id": "155c9dd5-6028-41ea-bab4-60db166a9d73",
   "metadata": {},
   "outputs": [],
   "source": []
  }
 ],
 "metadata": {
  "kernelspec": {
   "display_name": "Julia 1.11.6",
   "language": "julia",
   "name": "julia-1.11"
  },
  "language_info": {
   "file_extension": ".jl",
   "mimetype": "application/julia",
   "name": "julia",
   "version": "1.11.6"
  }
 },
 "nbformat": 4,
 "nbformat_minor": 5
}
